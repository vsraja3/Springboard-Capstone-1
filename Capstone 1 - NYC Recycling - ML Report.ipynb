{
 "cells": [
  {
   "cell_type": "code",
   "execution_count": 1,
   "metadata": {
    "collapsed": true
   },
   "outputs": [],
   "source": [
    "#Import Necessary Packages\n",
    "import pandas as pd\n",
    "import matplotlib.pyplot as plt\n",
    "import seaborn as sns\n",
    "import numpy as np\n",
    "import xgboost as xgb\n",
    "from sklearn.model_selection import train_test_split\n",
    "from sklearn import metrics\n",
    "from sklearn.linear_model import LinearRegression\n",
    "from sklearn.feature_selection import RFE\n",
    "from sklearn.linear_model import RidgeCV, LassoCV, Ridge, Lasso\n",
    "from sklearn.metrics import mean_squared_error\n",
    "from sklearn.model_selection import cross_val_score, cross_val_predict, GridSearchCV\n",
    "from sklearn.ensemble import RandomForestRegressor\n",
    "from sklearn import tree"
   ]
  },
  {
   "cell_type": "markdown",
   "metadata": {},
   "source": [
    "After completing the exploratory data analysis along with statistical analysis in the last portion to answer high level questions about the different subgroups of data across boroughs and age groups, proportion of different groups, and change over time, we can begin to apply machine learning to the data.\n",
    "\n",
    "We also determined the variables that were statistically significant with regards to their relationship with diversion and capture rates and their individual correlation in the heatmap. We will now move on to apply machine learning techniques to see how our variables together can be used to predict recycling rates and determine feature importance at a multivariate level.\n",
    "\n",
    "Below we will begin by loading the dataframe from the csv and creating the filtered dataframe with the specified X and Y variables that were narrowed through correlation and p-value analysis."
   ]
  },
  {
   "cell_type": "code",
   "execution_count": 2,
   "metadata": {
    "collapsed": true
   },
   "outputs": [],
   "source": [
    "%%capture\n",
    "\n",
    "#Load in dataframes created in the Data Wrangling portion\n",
    "df_2016 = pd.read_csv('recycling_districts_2016')\n",
    "\n",
    "#Create list of all possible X-variables in dataframe, which are the columns that are NOT the rates\n",
    "#Create list of all possible Y-variables in dataframe, which are the columns that ARE the rates\n",
    "rec_x_variables = list(df_2016.columns[9:])\n",
    "rec_y_rates = list(df_2016.columns[4:8])\n",
    "del rec_y_rates[1:3]\n",
    "\n",
    "#Create sublists of categories of variables - Economic, Community, Race, Age Groups\n",
    "economic = ['poverty_rate', 'pct_bach_deg', 'unemployment_cd', 'mean_commute']\n",
    "community = ['pct_hh_rent_burd', 'pct_clean_strts', 'count_public_schools', 'count_hosp_clinic']\n",
    "race = ['pct_black_nh', 'pct_white_nh', 'pct_hispanic', 'pct_asian_nh']\n",
    "age = ['minors_under20', 'youngadults_20-39', 'middleaged_40-59', 'senior_over60']\n",
    "comb_var = economic + community + race + age\n",
    "\n",
    "df_corr_x = df_2016[comb_var]\n",
    "df_corr_xy = df_2016[rec_y_rates + comb_var]\n",
    "df_corr_xy.rename(columns={\"Diversion Rate-Total (Total Recycling / Total Waste)\": \"Diversion Rate\", \"Capture Rate-Total ((Total Recycling - Leaves (Recycling)) / (Max Paper + Max MGP))x100\": \"Capture Rate Total\"}, inplace=True)"
   ]
  },
  {
   "cell_type": "markdown",
   "metadata": {
    "collapsed": true
   },
   "source": [
    "With the dataframe with the statistically significant variables and recycling rates created in 'df_corr_xy', we can begin to create our feature and target matrices. Below we can define the 'feature' matrix created by dropping the target variables diversion and capture rate from the dataframe, and the target matrix by extracting the diversion and capture rate columns of the dataframe. \n",
    "\n",
    "Since their are two target variables, we will break them into two variables, Y and Y2, to differentiate and apply later."
   ]
  },
  {
   "cell_type": "code",
   "execution_count": 3,
   "metadata": {
    "collapsed": true
   },
   "outputs": [],
   "source": [
    "#Feature Selection - Create Feature and Target Matrix\n",
    "features = df_corr_xy.drop(['Diversion Rate', 'Capture Rate Total'], axis=1)\n",
    "\n",
    "target = df_corr_xy[['Diversion Rate', 'Capture Rate Total']]"
   ]
  },
  {
   "cell_type": "markdown",
   "metadata": {},
   "source": [
    "While we reduced our features matrix from all the possible variables to the ones with statistical signficance, and aggregated the age group percentages into 4 groups, we still cannot be sure that all of the variables will be relevant when applying them to a machine learning algorithms such as linear regression or random forests.\n",
    "\n",
    "As such, we can further improve a model's predictability by using feature selection tecniques in order to optimize the accuracy. Two of the methods we will implement and explore are recursive feature elimination and lasso regularization. \n",
    "\n",
    "We begin by using the recursive feature elimination technique, at iterative technique which measures the success of a particular model by adding and removing attributes to find the optimal number and combination of features based on the resulting accuracy metric. Below we will implement this by testing the features on a linear regression model and measuring success using the R-squared. "
   ]
  },
  {
   "cell_type": "code",
   "execution_count": 4,
   "metadata": {},
   "outputs": [
    {
     "name": "stdout",
     "output_type": "stream",
     "text": [
      "Optimum number of features: 12\n",
      "Score with 12 features: 0.759062\n"
     ]
    }
   ],
   "source": [
    "#Find optimal number of features using Recursive Feature Elimination\n",
    "#no of features\n",
    "num_features_list = np.arange(1,17)            \n",
    "high_score= 0\n",
    "\n",
    "#Variable to store the optimum features\n",
    "nof = 0           \n",
    "score_list = []\n",
    "for n in range(len(num_features_list)):\n",
    "    X_train, X_test, y_train, y_test = train_test_split(features , target.iloc[:, 0], test_size = 0.3, random_state = 0)\n",
    "    model = LinearRegression()\n",
    "    rfe = RFE(model, num_features_list[n])\n",
    "    X_train_rfe = rfe.fit_transform(X_train, y_train)\n",
    "    X_test_rfe = rfe.transform(X_test)\n",
    "    model.fit(X_train_rfe, y_train)\n",
    "    score = model.score(X_test_rfe, y_test)\n",
    "    score_list.append(score)\n",
    "    if(score > high_score):\n",
    "        high_score = score\n",
    "        nof = num_features_list[n]\n",
    "\n",
    "print(\"Optimum number of features: %d\" %nof)\n",
    "print(\"Score with %d features: %f\" % (nof, high_score))"
   ]
  },
  {
   "cell_type": "markdown",
   "metadata": {},
   "source": [
    "We discover the optimum number of features determined by recursive feature elimination with linear regression is 12 with an R-squared score of .76. Below we will plug in this number into the RFE to find the features that were selected and their ranked importances."
   ]
  },
  {
   "cell_type": "code",
   "execution_count": 5,
   "metadata": {},
   "outputs": [
    {
     "name": "stdout",
     "output_type": "stream",
     "text": [
      "Index(['poverty_rate', 'pct_bach_deg', 'mean_commute', 'pct_clean_strts',\n",
      "       'pct_black_nh', 'pct_white_nh', 'pct_hispanic', 'pct_asian_nh',\n",
      "       'minors_under20', 'youngadults_20-39', 'middleaged_40-59',\n",
      "       'senior_over60'],\n",
      "      dtype='object')\n"
     ]
    }
   ],
   "source": [
    "#Plug in optimal number of features into RFE model to find relevant features and ranking \n",
    "cols = list(features.columns)\n",
    "lr_model = LinearRegression()\n",
    "\n",
    "#Initializing RFE model\n",
    "rfe = RFE(lr_model, 12)             \n",
    "\n",
    "#Transforming data using RFE\n",
    "X_rfe = rfe.fit_transform(features, target.iloc[:, 0])  \n",
    "\n",
    "#Fitting the data to model\n",
    "lr_model.fit(X_rfe, target.iloc[:, 0])              \n",
    "temp = pd.Series(rfe.support_, index = cols)\n",
    "selected_features_rfe = temp[temp==True].index\n",
    "features_lr = features[selected_features_rfe]\n",
    "print(selected_features_rfe)"
   ]
  },
  {
   "cell_type": "markdown",
   "metadata": {},
   "source": [
    "Plugging in the optimal features of 12 into the RFE model, we discover which 12 features are important and stores those features into the 'features_lr' list. Below we will proceed to run a simple linear regression to predict the diversion rates from the test data. \n",
    "\n",
    "We begin by splitting the data into training and testing data, using a 10% testing holdout due to the limited number of data points in order to maximize training strength and predictability. We then fit the data and use 10-fold cross validation to find the best breakdown of testing and training data for the 10% holdout. Lastly we'll print the cross-validation scores and root mean squared error (RMSE) to evaluate the model. "
   ]
  },
  {
   "cell_type": "code",
   "execution_count": 6,
   "metadata": {},
   "outputs": [
    {
     "name": "stdout",
     "output_type": "stream",
     "text": [
      "Root Mean Squared Error (RMSE): 2.65969826231\n",
      "R-Squared Score: 0.739750951785\n"
     ]
    }
   ],
   "source": [
    "#Run Linear Regression Model Using Selected Features from RFE\n",
    "lr = LinearRegression()\n",
    "X_train, X_test, y_train, y_test = train_test_split(features_lr , target.iloc[:, 0], test_size = 0.1, random_state = 0)\n",
    "lr.fit(X_train, y_train)\n",
    "lr_score = lr.score(X_test, y_test)\n",
    "y_pred = lr.predict(X_test)\n",
    "rmse_lr = np.sqrt(mean_squared_error(y_test, y_pred))\n",
    "print(\"Root Mean Squared Error (RMSE):\", np.sqrt(mean_squared_error(y_test, y_pred)))\n",
    "print(\"R-Squared Score:\", lr.score(X_test, y_test))\n",
    "#Do train test split and cross validation for Random Forest"
   ]
  },
  {
   "cell_type": "code",
   "execution_count": 7,
   "metadata": {},
   "outputs": [
    {
     "data": {
      "text/html": [
       "<div>\n",
       "<style scoped>\n",
       "    .dataframe tbody tr th:only-of-type {\n",
       "        vertical-align: middle;\n",
       "    }\n",
       "\n",
       "    .dataframe tbody tr th {\n",
       "        vertical-align: top;\n",
       "    }\n",
       "\n",
       "    .dataframe thead th {\n",
       "        text-align: right;\n",
       "    }\n",
       "</style>\n",
       "<table border=\"1\" class=\"dataframe\">\n",
       "  <thead>\n",
       "    <tr style=\"text-align: right;\">\n",
       "      <th></th>\n",
       "      <th>Actual</th>\n",
       "      <th>Predicted</th>\n",
       "      <th>Difference</th>\n",
       "    </tr>\n",
       "  </thead>\n",
       "  <tbody>\n",
       "    <tr>\n",
       "      <th>26</th>\n",
       "      <td>17.833333</td>\n",
       "      <td>19.018298</td>\n",
       "      <td>-1.184965</td>\n",
       "    </tr>\n",
       "    <tr>\n",
       "      <th>35</th>\n",
       "      <td>22.508333</td>\n",
       "      <td>21.071834</td>\n",
       "      <td>1.436499</td>\n",
       "    </tr>\n",
       "    <tr>\n",
       "      <th>43</th>\n",
       "      <td>19.791667</td>\n",
       "      <td>20.397269</td>\n",
       "      <td>-0.605602</td>\n",
       "    </tr>\n",
       "    <tr>\n",
       "      <th>28</th>\n",
       "      <td>13.358333</td>\n",
       "      <td>9.621569</td>\n",
       "      <td>3.736764</td>\n",
       "    </tr>\n",
       "    <tr>\n",
       "      <th>11</th>\n",
       "      <td>18.391667</td>\n",
       "      <td>15.098092</td>\n",
       "      <td>3.293575</td>\n",
       "    </tr>\n",
       "    <tr>\n",
       "      <th>2</th>\n",
       "      <td>6.450000</td>\n",
       "      <td>10.164634</td>\n",
       "      <td>-3.714634</td>\n",
       "    </tr>\n",
       "  </tbody>\n",
       "</table>\n",
       "</div>"
      ],
      "text/plain": [
       "       Actual  Predicted  Difference\n",
       "26  17.833333  19.018298   -1.184965\n",
       "35  22.508333  21.071834    1.436499\n",
       "43  19.791667  20.397269   -0.605602\n",
       "28  13.358333   9.621569    3.736764\n",
       "11  18.391667  15.098092    3.293575\n",
       "2    6.450000  10.164634   -3.714634"
      ]
     },
     "execution_count": 7,
     "metadata": {},
     "output_type": "execute_result"
    }
   ],
   "source": [
    "df_lr_pred = pd.DataFrame({'Actual': y_test, 'Predicted': y_pred, 'Difference': np.subtract(y_test, y_pred)})\n",
    "df_lr_pred"
   ]
  },
  {
   "cell_type": "code",
   "execution_count": 8,
   "metadata": {},
   "outputs": [
    {
     "name": "stderr",
     "output_type": "stream",
     "text": [
      "/Users/varunraja/anaconda3/lib/python3.6/site-packages/matplotlib/cbook/deprecation.py:106: MatplotlibDeprecationWarning: Adding an axes using the same arguments as a previous axes currently reuses the earlier instance.  In a future version, a new instance will always be created and returned.  Meanwhile, this warning can be suppressed, and the future behavior ensured, by passing a unique label to each axes instance.\n",
      "  warnings.warn(message, mplDeprecation, stacklevel=1)\n"
     ]
    },
    {
     "data": {
      "image/png": "[encoded data removed]",
      "text/plain": [
       "<matplotlib.figure.Figure at 0x1a1c971438>"
      ]
     },
     "metadata": {},
     "output_type": "display_data"
    }
   ],
   "source": [
    "df_lr_pred[['Actual', 'Predicted']].plot(kind='bar', figsize=(10, 8))\n",
    "ax = plt.axes()\n",
    "x_axis = ax.axes.get_xaxis()\n",
    "x_axis.set_visible(False)\n",
    "plt.show()"
   ]
  },
  {
   "cell_type": "markdown",
   "metadata": {},
   "source": [
    "The results show a mean cross validation R-squared score of .74, which means that 74% of the variance of the data can be explained by the linear regression model built. This is an average across all the 10-folds of cross-validation. \n",
    "\n",
    "Moreover, after predicting the Y-values (diversion rates) from the test X data, we can compare that against the actual diversion rates held out in the y_test set to determine how closely the predictions matched the actual data. For this, we use the metric root mean squared error, which measures the average difference between the predicted rates and actual rates. \n",
    "\n",
    "Both these metrics are fairly strong, but ideally we'd like a root mean squared error (RMSE) closer to 0 and an R-squared score closer to 1.0. As such, we will evaluate the data through 3 more models in order to determine the best model that can predict diversion rate from the features available. \n",
    "\n",
    "The next model we'll attempt is a variation of linear regression using lasso regularization, which combines variable selection and regression to determine which variables are relevant by determining their coefficients and shrinking any that don't improve the model to 0. We will reset the X and Y train/test arrays to include all 16 variables as we will include all in the next 3 models."
   ]
  },
  {
   "cell_type": "code",
   "execution_count": 9,
   "metadata": {
    "collapsed": true
   },
   "outputs": [],
   "source": [
    "#Reset train test split X and Y arrays with all 16 variables\n",
    "X_train, X_test, y_train, y_test = train_test_split(features , target.iloc[:, 0], test_size = 0.1, random_state = 0)"
   ]
  },
  {
   "cell_type": "code",
   "execution_count": 10,
   "metadata": {
    "scrolled": false
   },
   "outputs": [
    {
     "name": "stdout",
     "output_type": "stream",
     "text": [
      "Best alpha using built-in LassoCV: 1.199457\n",
      "Best score using built-in LassoCV: 0.797443\n",
      "Lasso picked 8 variables and eliminated the other 8 variables\n"
     ]
    },
    {
     "data": {
      "image/png": "[encoded data removed]",
      "text/plain": [
       "<matplotlib.figure.Figure at 0x1a1cacd0f0>"
      ]
     },
     "metadata": {},
     "output_type": "display_data"
    }
   ],
   "source": [
    "#Embedded Method using Lasso Regularization\n",
    "\n",
    "reg = LassoCV()\n",
    "reg.fit(features, target.iloc[:, 0])\n",
    "print(\"Best alpha using built-in LassoCV: %f\" % reg.alpha_)\n",
    "print(\"Best score using built-in LassoCV: %f\" %reg.score(features, target.iloc[:, 0]))\n",
    "coef = pd.Series(reg.coef_, index = features.columns)\n",
    "y_pred2 = reg.predict(X_test)\n",
    "rmse_ls = np.sqrt(mean_squared_error(y_test, y_pred2))\n",
    "\n",
    "print(\"Lasso picked \" + str(sum(coef != 0)) + \" variables and eliminated the other \" +  str(sum(coef == 0)) + \" variables\")\n",
    "\n",
    "imp_coef = coef.sort_values()\n",
    "import matplotlib\n",
    "matplotlib.rcParams['figure.figsize'] = (8.0, 10.0)\n",
    "imp_coef.plot(kind = \"barh\")\n",
    "plt.title(\"Feature importance using Lasso Model\")\n",
    "plt.show()"
   ]
  },
  {
   "cell_type": "markdown",
   "metadata": {},
   "source": [
    "As seen above, the lasso regularization yielded a fairly high R-squared score of .80 and also helped determine the feature importances of each of the variables, leaving 8 variables and eliminating the other 8 through shrinkage. Interesingly the highest postive and negative scored variables were percent middle aged and poverty rate\n",
    "\n",
    "Below we'll plot the coefficients of the RFE regression model to see how the results compare"
   ]
  },
  {
   "cell_type": "code",
   "execution_count": 12,
   "metadata": {},
   "outputs": [
    {
     "data": {
      "image/png": "[encoded data removed]",
      "text/plain": [
       "<matplotlib.figure.Figure at 0x1a1cdd13c8>"
      ]
     },
     "metadata": {},
     "output_type": "display_data"
    },
    {
     "data": {
      "text/plain": [
       "(             features  estimatedCoefficients\n",
       " 0    middleaged_40-59               0.465265\n",
       " 1        pct_bach_deg               0.158944\n",
       " 2        mean_commute               0.117967\n",
       " 3     pct_clean_strts               0.055974\n",
       " 4      minors_under20              -0.069014\n",
       " 5        pct_white_nh              -0.108791\n",
       " 6        pct_asian_nh              -0.131884\n",
       " 7        pct_hispanic              -0.135596\n",
       " 8        poverty_rate              -0.179284\n",
       " 9        pct_black_nh              -0.218886\n",
       " 10  youngadults_20-39              -0.234190\n",
       " 11      senior_over60              -0.485886, None)"
      ]
     },
     "execution_count": 12,
     "metadata": {},
     "output_type": "execute_result"
    }
   ],
   "source": [
    "# Plot the coefficients\n",
    "lr_imp = pd.DataFrame({'features': features_lr.columns, 'estimatedCoefficients': lr.coef_})[['features', 'estimatedCoefficients']].sort_values('estimatedCoefficients', ascending = False).reset_index(drop = True)\n",
    "sns.barplot(x = 'estimatedCoefficients', y = 'features', data = lr_imp, orient = 'h', color = 'royalblue').set_title('Sklearn Linear Regression Coefficients', fontsize = 15)\n",
    "matplotlib.rcParams['figure.figsize'] = (8, 6)\n",
    "lr_imp, plt.show()"
   ]
  },
  {
   "cell_type": "markdown",
   "metadata": {},
   "source": [
    "The next technique we will evaluate is XGBOOST, which uses the technique of gradient boosting to build an ensemble model of weaker predictive models that aggregate by using the results to improve the next model iteratively. Boosting through XGBoost can be done by using decision tree regression or linear regression.fsfs\n",
    "\n",
    "One difference between the XGBOOST regressor compared to a simple linear regressor is that we have to input hyperparameters, such as using a linear or tree as booster and the number of estimators to evaluate. This can be tuned using gridsearch as shown below. We first define the parameter grid of the options for each hyperparameter we want to test, instatiate the gridsearch object with our model and parameter grid, and then fit the model to our training data. Moreover, we will use cross-validation to test different breakdowns of training data used for holdout and test. "
   ]
  },
  {
   "cell_type": "code",
   "execution_count": 13,
   "metadata": {
    "collapsed": true
   },
   "outputs": [],
   "source": [
    "%%capture\n",
    "param_grid_xg = {'booster': ['gblinear', 'gbtree'], 'n_estimators': range(1, 20)} \n",
    "xg_grid = xgb.XGBRegressor()\n",
    "xg_gridsearch = GridSearchCV(estimator= xg_grid, param_grid= param_grid_xg, cv=10)\n",
    "xg_gridsearch.fit(X_train, y_train)"
   ]
  },
  {
   "cell_type": "code",
   "execution_count": 14,
   "metadata": {
    "scrolled": true
   },
   "outputs": [
    {
     "data": {
      "text/plain": [
       "(0.45929551694499005,\n",
       " XGBRegressor(base_score=0.5, booster='gblinear', colsample_bylevel=1,\n",
       "        colsample_bynode=1, colsample_bytree=1, gamma=0,\n",
       "        importance_type='gain', learning_rate=0.1, max_delta_step=0,\n",
       "        max_depth=3, min_child_weight=1, missing=None, n_estimators=19,\n",
       "        n_jobs=1, nthread=None, objective='reg:linear', random_state=0,\n",
       "        reg_alpha=0, reg_lambda=1, scale_pos_weight=1, seed=None,\n",
       "        silent=None, subsample=1, verbosity=1))"
      ]
     },
     "execution_count": 14,
     "metadata": {},
     "output_type": "execute_result"
    }
   ],
   "source": [
    "xg_gridsearch.best_score_, xg_gridsearch.best_estimator_"
   ]
  },
  {
   "cell_type": "markdown",
   "metadata": {},
   "source": [
    "After running the grid search, we've determined the optimal booster to be 'gblinear' and the optimal number of estimators to be 19 as they produce the best score. We can proceed to use this model to predict the rates by plugging in the test data and evaluating the RMSE and R-squared thereafter, as shown below"
   ]
  },
  {
   "cell_type": "code",
   "execution_count": 15,
   "metadata": {},
   "outputs": [
    {
     "name": "stdout",
     "output_type": "stream",
     "text": [
      "[23:29:11] WARNING: src/objective/regression_obj.cu:152: reg:linear is now deprecated in favor of reg:squarederror.\n"
     ]
    },
    {
     "name": "stderr",
     "output_type": "stream",
     "text": [
      "/Users/varunraja/anaconda3/lib/python3.6/site-packages/xgboost/core.py:587: FutureWarning: Series.base is deprecated and will be removed in a future version\n",
      "  if getattr(data, 'base', None) is not None and \\\n"
     ]
    },
    {
     "data": {
      "text/plain": [
       "XGBRegressor(base_score=0.5, booster='gblinear', colsample_bylevel=1,\n",
       "       colsample_bynode=1, colsample_bytree=1, gamma=0,\n",
       "       importance_type='gain', learning_rate=0.1, max_delta_step=0,\n",
       "       max_depth=3, min_child_weight=1, missing=None, n_estimators=19,\n",
       "       n_jobs=1, nthread=None, objective='reg:linear', random_state=0,\n",
       "       reg_alpha=0, reg_lambda=1, scale_pos_weight=1, seed=None,\n",
       "       silent=None, subsample=1, verbosity=1)"
      ]
     },
     "execution_count": 15,
     "metadata": {},
     "output_type": "execute_result"
    }
   ],
   "source": [
    "##DELETE THIS?\n",
    "xgb = xgb.XGBRegressor(booster='gblinear', n_estimators=19)\n",
    "xgb.fit(X_train, y_train)"
   ]
  },
  {
   "cell_type": "code",
   "execution_count": 16,
   "metadata": {},
   "outputs": [
    {
     "name": "stdout",
     "output_type": "stream",
     "text": [
      "R-Squared Score: 0.690539105349\n"
     ]
    }
   ],
   "source": [
    "y_pred3 = xg_gridsearch.predict(X_test)\n",
    "rmse_xg = np.sqrt(mean_squared_error(y_test, y_pred3))\n",
    "\n",
    "print(\"R-Squared Score:\", xg_gridsearch.score(X_test, y_test))"
   ]
  },
  {
   "cell_type": "markdown",
   "metadata": {},
   "source": [
    "After predicting the diversion rates and comparing against the test data, we discover a RMSE of 2.90 which is higher than the standard linear regression completed previously, along with a score of .69 which is also lower than the linear model score of .74. This suggests that the model is weaker than the simple linear regression. While boosting is generally stronger than most models than run one iteration, it is possible that with limited data size it's accuracy potential is limited."
   ]
  },
  {
   "cell_type": "code",
   "execution_count": 17,
   "metadata": {},
   "outputs": [
    {
     "data": {
      "image/png": "[encoded data removed]",
      "text/plain": [
       "<matplotlib.figure.Figure at 0x1a1cd6fcc0>"
      ]
     },
     "metadata": {},
     "output_type": "display_data"
    },
    {
     "data": {
      "text/plain": [
       "(                features  estimatedCoefficients\n",
       " 0        unemployment_cd               0.088694\n",
       " 1           pct_bach_deg               0.085474\n",
       " 2           pct_asian_nh               0.075250\n",
       " 3           pct_white_nh               0.074007\n",
       " 4          senior_over60               0.051676\n",
       " 5       middleaged_40-59               0.043274\n",
       " 6           mean_commute               0.032671\n",
       " 7      youngadults_20-39               0.030674\n",
       " 8           poverty_rate               0.023484\n",
       " 9       pct_hh_rent_burd               0.019700\n",
       " 10       pct_clean_strts               0.016277\n",
       " 11        minors_under20               0.012112\n",
       " 12  count_public_schools               0.006768\n",
       " 13     count_hosp_clinic               0.004188\n",
       " 14          pct_hispanic              -0.005444\n",
       " 15          pct_black_nh              -0.029785, None)"
      ]
     },
     "execution_count": 17,
     "metadata": {},
     "output_type": "execute_result"
    }
   ],
   "source": [
    "# The coefficients\n",
    "xgb_imp = pd.DataFrame({'features': features.columns, 'estimatedCoefficients': xgb.coef_})[['features', 'estimatedCoefficients']].sort_values('estimatedCoefficients', ascending = False).reset_index(drop = True)\n",
    "sns.barplot(x = 'estimatedCoefficients', y = 'features', data = xgb_imp, orient = 'h', color = 'royalblue').set_title('Sklearn Linear Regression Coefficients', fontsize = 15)\n",
    "xgb_imp, plt.show()"
   ]
  },
  {
   "cell_type": "markdown",
   "metadata": {},
   "source": [
    "Lastly, we will attempt to use a random forest regressor, or a ensemble model consisting of multiple decision trees that are run in parallel and whose results are aggregated and averaged to increase the accuracy of the predictor. \n",
    "\n",
    "Since the random forest regressor also includes hyperparameter inputs including max depth or branches and number of estimators, we will use grid search and cross validation similar to what was run for XGBoost. We do again by defining a parameter grid of all parameter values to be tested for each input and fit the model to our training data."
   ]
  },
  {
   "cell_type": "code",
   "execution_count": 18,
   "metadata": {},
   "outputs": [
    {
     "data": {
      "text/plain": [
       "(0.56156025250316199,\n",
       " RandomForestRegressor(bootstrap=True, criterion='mse', max_depth=10,\n",
       "            max_features='auto', max_leaf_nodes=None,\n",
       "            min_impurity_decrease=0.0, min_impurity_split=None,\n",
       "            min_samples_leaf=1, min_samples_split=2,\n",
       "            min_weight_fraction_leaf=0.0, n_estimators=11, n_jobs=1,\n",
       "            oob_score=False, random_state=0, verbose=0, warm_start=False))"
      ]
     },
     "execution_count": 18,
     "metadata": {},
     "output_type": "execute_result"
    }
   ],
   "source": [
    "param_grid = {'max_depth': range(5, 50, 5), 'n_estimators': range(1, 20)} \n",
    "rand_forest_grid = RandomForestRegressor(random_state=0)\n",
    "rf_gridsearch = GridSearchCV(estimator=rand_forest_grid, param_grid=param_grid, cv=5)\n",
    "rf_gridsearch.fit(X_train, y_train)\n",
    "rf_gridsearch.best_score_, rf_gridsearch.best_estimator_"
   ]
  },
  {
   "cell_type": "markdown",
   "metadata": {},
   "source": [
    "As we can see, the gridsearch results against the random forest regressor show that a model with the specified parameters of max depth 25 and 6 estimators yields the best score. We can now fit this against the test data to predict the diversion rates and find the RMSE and score of the best random forest model. "
   ]
  },
  {
   "cell_type": "code",
   "execution_count": 19,
   "metadata": {},
   "outputs": [
    {
     "name": "stdout",
     "output_type": "stream",
     "text": [
      "Root Mean Squared Error (RMSE): 1.96603121397\n",
      "R-Squared Score: 0.85779815599\n"
     ]
    }
   ],
   "source": [
    "y_pred4 = rf_gridsearch.predict(X_test)\n",
    "rmse_rf = np.sqrt(mean_squared_error(y_test, y_pred4))\n",
    "print(\"Root Mean Squared Error (RMSE):\", rmse_rf)\n",
    "print(\"R-Squared Score:\", rf_gridsearch.score(X_test, y_test))"
   ]
  },
  {
   "cell_type": "markdown",
   "metadata": {},
   "source": [
    "After predicting the diversion rates and comparing against the test data, we discover a RMSE of 1.97 along with a score of .86, both of which beat out the linear regression, lasso, and XGBoost models. This suggests that this random forest may be stronger in comparison in terms of determining the diversion rates based on the available data. The R-squared score of .86 suggests that 86 percent of the recycling data can be represented by the model.\n",
    "\n",
    "Now that we've built and tested each of our models, we will take a look once again at the results of each to compare."
   ]
  },
  {
   "cell_type": "code",
   "execution_count": 20,
   "metadata": {},
   "outputs": [
    {
     "name": "stdout",
     "output_type": "stream",
     "text": [
      "Root Mean Squared Error - Linear Regression: 2.65969826231\n",
      "Root Mean Squared Error - Lasso Regression: 1.55190305297\n",
      "Root Mean Squared Error - XGBoost: 2.90028504349\n",
      "Root Mean Squared Error - Random Forest: 1.96603121397\n"
     ]
    }
   ],
   "source": [
    "#Compare models through RMSE and R^2 scores\n",
    "print(\"Root Mean Squared Error - Linear Regression:\", rmse_lr)\n",
    "print(\"Root Mean Squared Error - Lasso Regression:\", rmse_ls)\n",
    "print(\"Root Mean Squared Error - XGBoost:\", rmse_xg)\n",
    "print(\"Root Mean Squared Error - Random Forest:\", rmse_rf)"
   ]
  },
  {
   "cell_type": "code",
   "execution_count": 21,
   "metadata": {},
   "outputs": [
    {
     "name": "stdout",
     "output_type": "stream",
     "text": [
      "R-Squared Score - Linear Regression: 0.739750951785\n",
      "R-Squared Score - Lasso Regression: 0.797443091589\n",
      "R-Squared Score - XGBoost: 0.690539105349\n",
      "R-Squared Score - Random Forest: 0.85779815599\n"
     ]
    }
   ],
   "source": [
    "print(\"R-Squared Score - Linear Regression:\", lr_score)\n",
    "print(\"R-Squared Score - Lasso Regression:\", reg.score(features, target.iloc[:, 0]))\n",
    "print(\"R-Squared Score - XGBoost:\", xg_gridsearch.score(X_test, y_test))\n",
    "print(\"R-Squared Score - Random Forest:\", rf_gridsearch.score(X_test, y_test))"
   ]
  },
  {
   "cell_type": "markdown",
   "metadata": {},
   "source": [
    "Upon reviewing the root mean squared error of each model, it looks like the Lasso Regression model delivers the lowest value, meaning it is the highest performing since RMSE measures the difference between the predicted Y value and actual values. However when comparing the R-squared scores of each it looks like the Random Forest regressor performs the best with a score of .813, just edging out the Lasso score .797. A higher R-squared score suggests that a higher percentage of the variance of the target Y variable (in this case diversion rate) can be explained by the model. \n",
    "\n",
    "Both metrics are useful for gauging the effectiveness of a model, but given the main thing we'd like to explore is the significance of particular demographic features on rates rather than predictability, having a higher R-squared is more relevant. Moreover, RMSE can be less accurate as it can be greatly influenced by outliers which have a greater impact in limited dataset sizes. \n",
    "\n",
    "As such, we will choose the Random Forest model as the best representative in highlighting which combination of features impact recycling rates. We can further explore this by determining the feature importance of each variable in influencing the regression model. We will explore and plot this below by using the model attribute 'feature_importances' to create a dataframe of importance level and plotting in a bar chart."
   ]
  },
  {
   "cell_type": "code",
   "execution_count": 22,
   "metadata": {},
   "outputs": [
    {
     "data": {
      "image/png": "[encoded data removed]",
      "text/plain": [
       "<matplotlib.figure.Figure at 0x1a1ccca5f8>"
      ]
     },
     "metadata": {},
     "output_type": "display_data"
    }
   ],
   "source": [
    "rand_forest = RandomForestRegressor(random_state=0, max_depth=10, n_estimators=11)\n",
    "rand_forest.fit(X_train, y_train)\n",
    "\n",
    "df_feature_importance = pd.DataFrame({'feature': X_train.columns,\n",
    "                       'feature_importance': rand_forest.feature_importances_}) \\\n",
    "           .sort_values('feature_importance', ascending = False) \\\n",
    "           .reset_index(drop = True)\n",
    "        \n",
    "sns.barplot(x = 'feature_importance', y = 'feature', data = df_feature_importance, orient = 'h', color = 'royalblue').set_title('Sklearn Random Forest Feature Importance', fontsize = 15)\n",
    "        \n",
    "plt.show()"
   ]
  }
 ],
 "metadata": {
  "kernelspec": {
   "display_name": "Python 3",
   "language": "python",
   "name": "python3"
  },
  "language_info": {
   "codemirror_mode": {
    "name": "ipython",
    "version": 3
   },
   "file_extension": ".py",
   "mimetype": "text/x-python",
   "name": "python",
   "nbconvert_exporter": "python",
   "pygments_lexer": "ipython3",
   "version": "3.6.3"
  }
 },
 "nbformat": 4,
 "nbformat_minor": 2
}
